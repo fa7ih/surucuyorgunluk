{
  "nbformat": 4,
  "nbformat_minor": 0,
  "metadata": {
    "colab": {
      "provenance": [],
      "machine_shape": "hm",
      "gpuType": "T4",
      "authorship_tag": "ABX9TyOC2lJ0iVECp95v3EIxaJX0",
      "include_colab_link": true
    },
    "kernelspec": {
      "name": "python3",
      "display_name": "Python 3"
    },
    "language_info": {
      "name": "python"
    },
    "accelerator": "GPU",
    "widgets": {
      "application/vnd.jupyter.widget-state+json": {
        "efacf237345d4f7288abe6653ac0d8c0": {
          "model_module": "@jupyter-widgets/controls",
          "model_name": "HBoxModel",
          "model_module_version": "1.5.0",
          "state": {
            "_dom_classes": [],
            "_model_module": "@jupyter-widgets/controls",
            "_model_module_version": "1.5.0",
            "_model_name": "HBoxModel",
            "_view_count": null,
            "_view_module": "@jupyter-widgets/controls",
            "_view_module_version": "1.5.0",
            "_view_name": "HBoxView",
            "box_style": "",
            "children": [
              "IPY_MODEL_ae8cdf1336ca48f9b942a975bf4fe038",
              "IPY_MODEL_e56f4cef2bfa498d8c23256ceef07584",
              "IPY_MODEL_75da7bc23242476591a1ff1582a3d3b7"
            ],
            "layout": "IPY_MODEL_c7d9115a655744239ee700ec76acda73"
          }
        },
        "ae8cdf1336ca48f9b942a975bf4fe038": {
          "model_module": "@jupyter-widgets/controls",
          "model_name": "HTMLModel",
          "model_module_version": "1.5.0",
          "state": {
            "_dom_classes": [],
            "_model_module": "@jupyter-widgets/controls",
            "_model_module_version": "1.5.0",
            "_model_name": "HTMLModel",
            "_view_count": null,
            "_view_module": "@jupyter-widgets/controls",
            "_view_module_version": "1.5.0",
            "_view_name": "HTMLView",
            "description": "",
            "description_tooltip": null,
            "layout": "IPY_MODEL_4170563d964549e786f34c1be734b54c",
            "placeholder": "​",
            "style": "IPY_MODEL_a5426d1d2610465b9089578614509b68",
            "value": "model.safetensors: 100%"
          }
        },
        "e56f4cef2bfa498d8c23256ceef07584": {
          "model_module": "@jupyter-widgets/controls",
          "model_name": "FloatProgressModel",
          "model_module_version": "1.5.0",
          "state": {
            "_dom_classes": [],
            "_model_module": "@jupyter-widgets/controls",
            "_model_module_version": "1.5.0",
            "_model_name": "FloatProgressModel",
            "_view_count": null,
            "_view_module": "@jupyter-widgets/controls",
            "_view_module_version": "1.5.0",
            "_view_name": "ProgressView",
            "bar_style": "success",
            "description": "",
            "description_tooltip": null,
            "layout": "IPY_MODEL_c0d8e9445639420d85e133d89451a450",
            "max": 349869368,
            "min": 0,
            "orientation": "horizontal",
            "style": "IPY_MODEL_eb3d6b00cdaa4832b852531ea7d3bbf5",
            "value": 349869368
          }
        },
        "75da7bc23242476591a1ff1582a3d3b7": {
          "model_module": "@jupyter-widgets/controls",
          "model_name": "HTMLModel",
          "model_module_version": "1.5.0",
          "state": {
            "_dom_classes": [],
            "_model_module": "@jupyter-widgets/controls",
            "_model_module_version": "1.5.0",
            "_model_name": "HTMLModel",
            "_view_count": null,
            "_view_module": "@jupyter-widgets/controls",
            "_view_module_version": "1.5.0",
            "_view_name": "HTMLView",
            "description": "",
            "description_tooltip": null,
            "layout": "IPY_MODEL_8d91256ea3814ac2ada49d6dd39e2b32",
            "placeholder": "​",
            "style": "IPY_MODEL_dad3e5c5d0ce4bde8bceceacdda2ee7f",
            "value": " 350M/350M [00:15&lt;00:00, 24.2MB/s]"
          }
        },
        "c7d9115a655744239ee700ec76acda73": {
          "model_module": "@jupyter-widgets/base",
          "model_name": "LayoutModel",
          "model_module_version": "1.2.0",
          "state": {
            "_model_module": "@jupyter-widgets/base",
            "_model_module_version": "1.2.0",
            "_model_name": "LayoutModel",
            "_view_count": null,
            "_view_module": "@jupyter-widgets/base",
            "_view_module_version": "1.2.0",
            "_view_name": "LayoutView",
            "align_content": null,
            "align_items": null,
            "align_self": null,
            "border": null,
            "bottom": null,
            "display": null,
            "flex": null,
            "flex_flow": null,
            "grid_area": null,
            "grid_auto_columns": null,
            "grid_auto_flow": null,
            "grid_auto_rows": null,
            "grid_column": null,
            "grid_gap": null,
            "grid_row": null,
            "grid_template_areas": null,
            "grid_template_columns": null,
            "grid_template_rows": null,
            "height": null,
            "justify_content": null,
            "justify_items": null,
            "left": null,
            "margin": null,
            "max_height": null,
            "max_width": null,
            "min_height": null,
            "min_width": null,
            "object_fit": null,
            "object_position": null,
            "order": null,
            "overflow": null,
            "overflow_x": null,
            "overflow_y": null,
            "padding": null,
            "right": null,
            "top": null,
            "visibility": null,
            "width": null
          }
        },
        "4170563d964549e786f34c1be734b54c": {
          "model_module": "@jupyter-widgets/base",
          "model_name": "LayoutModel",
          "model_module_version": "1.2.0",
          "state": {
            "_model_module": "@jupyter-widgets/base",
            "_model_module_version": "1.2.0",
            "_model_name": "LayoutModel",
            "_view_count": null,
            "_view_module": "@jupyter-widgets/base",
            "_view_module_version": "1.2.0",
            "_view_name": "LayoutView",
            "align_content": null,
            "align_items": null,
            "align_self": null,
            "border": null,
            "bottom": null,
            "display": null,
            "flex": null,
            "flex_flow": null,
            "grid_area": null,
            "grid_auto_columns": null,
            "grid_auto_flow": null,
            "grid_auto_rows": null,
            "grid_column": null,
            "grid_gap": null,
            "grid_row": null,
            "grid_template_areas": null,
            "grid_template_columns": null,
            "grid_template_rows": null,
            "height": null,
            "justify_content": null,
            "justify_items": null,
            "left": null,
            "margin": null,
            "max_height": null,
            "max_width": null,
            "min_height": null,
            "min_width": null,
            "object_fit": null,
            "object_position": null,
            "order": null,
            "overflow": null,
            "overflow_x": null,
            "overflow_y": null,
            "padding": null,
            "right": null,
            "top": null,
            "visibility": null,
            "width": null
          }
        },
        "a5426d1d2610465b9089578614509b68": {
          "model_module": "@jupyter-widgets/controls",
          "model_name": "DescriptionStyleModel",
          "model_module_version": "1.5.0",
          "state": {
            "_model_module": "@jupyter-widgets/controls",
            "_model_module_version": "1.5.0",
            "_model_name": "DescriptionStyleModel",
            "_view_count": null,
            "_view_module": "@jupyter-widgets/base",
            "_view_module_version": "1.2.0",
            "_view_name": "StyleView",
            "description_width": ""
          }
        },
        "c0d8e9445639420d85e133d89451a450": {
          "model_module": "@jupyter-widgets/base",
          "model_name": "LayoutModel",
          "model_module_version": "1.2.0",
          "state": {
            "_model_module": "@jupyter-widgets/base",
            "_model_module_version": "1.2.0",
            "_model_name": "LayoutModel",
            "_view_count": null,
            "_view_module": "@jupyter-widgets/base",
            "_view_module_version": "1.2.0",
            "_view_name": "LayoutView",
            "align_content": null,
            "align_items": null,
            "align_self": null,
            "border": null,
            "bottom": null,
            "display": null,
            "flex": null,
            "flex_flow": null,
            "grid_area": null,
            "grid_auto_columns": null,
            "grid_auto_flow": null,
            "grid_auto_rows": null,
            "grid_column": null,
            "grid_gap": null,
            "grid_row": null,
            "grid_template_areas": null,
            "grid_template_columns": null,
            "grid_template_rows": null,
            "height": null,
            "justify_content": null,
            "justify_items": null,
            "left": null,
            "margin": null,
            "max_height": null,
            "max_width": null,
            "min_height": null,
            "min_width": null,
            "object_fit": null,
            "object_position": null,
            "order": null,
            "overflow": null,
            "overflow_x": null,
            "overflow_y": null,
            "padding": null,
            "right": null,
            "top": null,
            "visibility": null,
            "width": null
          }
        },
        "eb3d6b00cdaa4832b852531ea7d3bbf5": {
          "model_module": "@jupyter-widgets/controls",
          "model_name": "ProgressStyleModel",
          "model_module_version": "1.5.0",
          "state": {
            "_model_module": "@jupyter-widgets/controls",
            "_model_module_version": "1.5.0",
            "_model_name": "ProgressStyleModel",
            "_view_count": null,
            "_view_module": "@jupyter-widgets/base",
            "_view_module_version": "1.2.0",
            "_view_name": "StyleView",
            "bar_color": null,
            "description_width": ""
          }
        },
        "8d91256ea3814ac2ada49d6dd39e2b32": {
          "model_module": "@jupyter-widgets/base",
          "model_name": "LayoutModel",
          "model_module_version": "1.2.0",
          "state": {
            "_model_module": "@jupyter-widgets/base",
            "_model_module_version": "1.2.0",
            "_model_name": "LayoutModel",
            "_view_count": null,
            "_view_module": "@jupyter-widgets/base",
            "_view_module_version": "1.2.0",
            "_view_name": "LayoutView",
            "align_content": null,
            "align_items": null,
            "align_self": null,
            "border": null,
            "bottom": null,
            "display": null,
            "flex": null,
            "flex_flow": null,
            "grid_area": null,
            "grid_auto_columns": null,
            "grid_auto_flow": null,
            "grid_auto_rows": null,
            "grid_column": null,
            "grid_gap": null,
            "grid_row": null,
            "grid_template_areas": null,
            "grid_template_columns": null,
            "grid_template_rows": null,
            "height": null,
            "justify_content": null,
            "justify_items": null,
            "left": null,
            "margin": null,
            "max_height": null,
            "max_width": null,
            "min_height": null,
            "min_width": null,
            "object_fit": null,
            "object_position": null,
            "order": null,
            "overflow": null,
            "overflow_x": null,
            "overflow_y": null,
            "padding": null,
            "right": null,
            "top": null,
            "visibility": null,
            "width": null
          }
        },
        "dad3e5c5d0ce4bde8bceceacdda2ee7f": {
          "model_module": "@jupyter-widgets/controls",
          "model_name": "DescriptionStyleModel",
          "model_module_version": "1.5.0",
          "state": {
            "_model_module": "@jupyter-widgets/controls",
            "_model_module_version": "1.5.0",
            "_model_name": "DescriptionStyleModel",
            "_view_count": null,
            "_view_module": "@jupyter-widgets/base",
            "_view_module_version": "1.2.0",
            "_view_name": "StyleView",
            "description_width": ""
          }
        }
      }
    }
  },
  "cells": [
    {
      "cell_type": "markdown",
      "metadata": {
        "id": "view-in-github",
        "colab_type": "text"
      },
      "source": [
        "<a href=\"https://colab.research.google.com/github/fa7ih/surucuyorgunluk/blob/main/Beit.ipynb\" target=\"_parent\"><img src=\"https://colab.research.google.com/assets/colab-badge.svg\" alt=\"Open In Colab\"/></a>"
      ]
    },
    {
      "cell_type": "code",
      "execution_count": null,
      "metadata": {
        "colab": {
          "base_uri": "https://localhost:8080/",
          "height": 761,
          "referenced_widgets": [
            "efacf237345d4f7288abe6653ac0d8c0",
            "ae8cdf1336ca48f9b942a975bf4fe038",
            "e56f4cef2bfa498d8c23256ceef07584",
            "75da7bc23242476591a1ff1582a3d3b7",
            "c7d9115a655744239ee700ec76acda73",
            "4170563d964549e786f34c1be734b54c",
            "a5426d1d2610465b9089578614509b68",
            "c0d8e9445639420d85e133d89451a450",
            "eb3d6b00cdaa4832b852531ea7d3bbf5",
            "8d91256ea3814ac2ada49d6dd39e2b32",
            "dad3e5c5d0ce4bde8bceceacdda2ee7f"
          ]
        },
        "id": "DbZwTcq2zyhm",
        "outputId": "3e686696-2601-491e-c68f-a578069ada1f"
      },
      "outputs": [
        {
          "output_type": "stream",
          "name": "stdout",
          "text": [
            "Fold 1\n"
          ]
        },
        {
          "output_type": "stream",
          "name": "stderr",
          "text": [
            "/usr/local/lib/python3.10/dist-packages/huggingface_hub/utils/_auth.py:94: UserWarning: \n",
            "The secret `HF_TOKEN` does not exist in your Colab secrets.\n",
            "To authenticate with the Hugging Face Hub, create a token in your settings tab (https://huggingface.co/settings/tokens), set it as secret in your Google Colab and restart your session.\n",
            "You will be able to reuse this secret in all of your notebooks.\n",
            "Please note that authentication is recommended but still optional to access public models or datasets.\n",
            "  warnings.warn(\n"
          ]
        },
        {
          "output_type": "display_data",
          "data": {
            "text/plain": [
              "model.safetensors:   0%|          | 0.00/350M [00:00<?, ?B/s]"
            ],
            "application/vnd.jupyter.widget-view+json": {
              "version_major": 2,
              "version_minor": 0,
              "model_id": "efacf237345d4f7288abe6653ac0d8c0"
            }
          },
          "metadata": {}
        },
        {
          "output_type": "stream",
          "name": "stdout",
          "text": [
            "Epoch 1/5, Train Loss: 0.0674, Val Loss: 0.0016, Val Accuracy: 0.9995\n",
            "Epoch 2/5, Train Loss: 0.0059, Val Loss: 0.0009, Val Accuracy: 0.9998\n",
            "Epoch 3/5, Train Loss: 0.0159, Val Loss: 0.0025, Val Accuracy: 0.9993\n",
            "Epoch 4/5, Train Loss: 0.0045, Val Loss: 0.0026, Val Accuracy: 0.9993\n",
            "Epoch 5/5, Train Loss: 0.0029, Val Loss: 0.0002, Val Accuracy: 1.0000\n",
            "Model fold 1 olarak beit_model_fold_1.pth dosyasına kaydedildi.\n"
          ]
        },
        {
          "output_type": "display_data",
          "data": {
            "text/plain": [
              "<IPython.core.display.Javascript object>"
            ],
            "application/javascript": [
              "\n",
              "    async function download(id, filename, size) {\n",
              "      if (!google.colab.kernel.accessAllowed) {\n",
              "        return;\n",
              "      }\n",
              "      const div = document.createElement('div');\n",
              "      const label = document.createElement('label');\n",
              "      label.textContent = `Downloading \"${filename}\": `;\n",
              "      div.appendChild(label);\n",
              "      const progress = document.createElement('progress');\n",
              "      progress.max = size;\n",
              "      div.appendChild(progress);\n",
              "      document.body.appendChild(div);\n",
              "\n",
              "      const buffers = [];\n",
              "      let downloaded = 0;\n",
              "\n",
              "      const channel = await google.colab.kernel.comms.open(id);\n",
              "      // Send a message to notify the kernel that we're ready.\n",
              "      channel.send({})\n",
              "\n",
              "      for await (const message of channel.messages) {\n",
              "        // Send a message to notify the kernel that we're ready.\n",
              "        channel.send({})\n",
              "        if (message.buffers) {\n",
              "          for (const buffer of message.buffers) {\n",
              "            buffers.push(buffer);\n",
              "            downloaded += buffer.byteLength;\n",
              "            progress.value = downloaded;\n",
              "          }\n",
              "        }\n",
              "      }\n",
              "      const blob = new Blob(buffers, {type: 'application/binary'});\n",
              "      const a = document.createElement('a');\n",
              "      a.href = window.URL.createObjectURL(blob);\n",
              "      a.download = filename;\n",
              "      div.appendChild(a);\n",
              "      a.click();\n",
              "      div.remove();\n",
              "    }\n",
              "  "
            ]
          },
          "metadata": {}
        },
        {
          "output_type": "display_data",
          "data": {
            "text/plain": [
              "<IPython.core.display.Javascript object>"
            ],
            "application/javascript": [
              "download(\"download_fdaf8f69-c4fc-4b9f-96d4-b332ed643d22\", \"beit_model_fold_1.pth\", 343130642)"
            ]
          },
          "metadata": {}
        },
        {
          "output_type": "stream",
          "name": "stdout",
          "text": [
            "Fold 2\n",
            "Epoch 1/5, Train Loss: 0.0868, Val Loss: 0.0041, Val Accuracy: 0.9990\n",
            "Epoch 2/5, Train Loss: 0.0078, Val Loss: 0.0026, Val Accuracy: 0.9995\n",
            "Epoch 3/5, Train Loss: 0.0043, Val Loss: 0.0023, Val Accuracy: 0.9994\n",
            "Epoch 4/5, Train Loss: 0.0077, Val Loss: 0.0028, Val Accuracy: 0.9992\n",
            "Epoch 5/5, Train Loss: 0.0062, Val Loss: 0.0019, Val Accuracy: 0.9995\n",
            "Model fold 2 olarak beit_model_fold_2.pth dosyasına kaydedildi.\n"
          ]
        },
        {
          "output_type": "display_data",
          "data": {
            "text/plain": [
              "<IPython.core.display.Javascript object>"
            ],
            "application/javascript": [
              "\n",
              "    async function download(id, filename, size) {\n",
              "      if (!google.colab.kernel.accessAllowed) {\n",
              "        return;\n",
              "      }\n",
              "      const div = document.createElement('div');\n",
              "      const label = document.createElement('label');\n",
              "      label.textContent = `Downloading \"${filename}\": `;\n",
              "      div.appendChild(label);\n",
              "      const progress = document.createElement('progress');\n",
              "      progress.max = size;\n",
              "      div.appendChild(progress);\n",
              "      document.body.appendChild(div);\n",
              "\n",
              "      const buffers = [];\n",
              "      let downloaded = 0;\n",
              "\n",
              "      const channel = await google.colab.kernel.comms.open(id);\n",
              "      // Send a message to notify the kernel that we're ready.\n",
              "      channel.send({})\n",
              "\n",
              "      for await (const message of channel.messages) {\n",
              "        // Send a message to notify the kernel that we're ready.\n",
              "        channel.send({})\n",
              "        if (message.buffers) {\n",
              "          for (const buffer of message.buffers) {\n",
              "            buffers.push(buffer);\n",
              "            downloaded += buffer.byteLength;\n",
              "            progress.value = downloaded;\n",
              "          }\n",
              "        }\n",
              "      }\n",
              "      const blob = new Blob(buffers, {type: 'application/binary'});\n",
              "      const a = document.createElement('a');\n",
              "      a.href = window.URL.createObjectURL(blob);\n",
              "      a.download = filename;\n",
              "      div.appendChild(a);\n",
              "      a.click();\n",
              "      div.remove();\n",
              "    }\n",
              "  "
            ]
          },
          "metadata": {}
        },
        {
          "output_type": "display_data",
          "data": {
            "text/plain": [
              "<IPython.core.display.Javascript object>"
            ],
            "application/javascript": [
              "download(\"download_eb3256c4-a74c-40d7-934a-cfb82369fdab\", \"beit_model_fold_2.pth\", 343130642)"
            ]
          },
          "metadata": {}
        },
        {
          "output_type": "stream",
          "name": "stdout",
          "text": [
            "Fold 3\n",
            "Epoch 1/5, Train Loss: 0.0630, Val Loss: 0.0026, Val Accuracy: 0.9993\n",
            "Epoch 2/5, Train Loss: 0.0030, Val Loss: 0.0005, Val Accuracy: 0.9999\n",
            "Epoch 3/5, Train Loss: 0.0059, Val Loss: 0.0012, Val Accuracy: 0.9996\n",
            "Epoch 4/5, Train Loss: 0.0015, Val Loss: 0.0002, Val Accuracy: 0.9999\n",
            "Epoch 5/5, Train Loss: 0.0028, Val Loss: 0.0001, Val Accuracy: 1.0000\n",
            "Model fold 3 olarak beit_model_fold_3.pth dosyasına kaydedildi.\n"
          ]
        },
        {
          "output_type": "display_data",
          "data": {
            "text/plain": [
              "<IPython.core.display.Javascript object>"
            ],
            "application/javascript": [
              "\n",
              "    async function download(id, filename, size) {\n",
              "      if (!google.colab.kernel.accessAllowed) {\n",
              "        return;\n",
              "      }\n",
              "      const div = document.createElement('div');\n",
              "      const label = document.createElement('label');\n",
              "      label.textContent = `Downloading \"${filename}\": `;\n",
              "      div.appendChild(label);\n",
              "      const progress = document.createElement('progress');\n",
              "      progress.max = size;\n",
              "      div.appendChild(progress);\n",
              "      document.body.appendChild(div);\n",
              "\n",
              "      const buffers = [];\n",
              "      let downloaded = 0;\n",
              "\n",
              "      const channel = await google.colab.kernel.comms.open(id);\n",
              "      // Send a message to notify the kernel that we're ready.\n",
              "      channel.send({})\n",
              "\n",
              "      for await (const message of channel.messages) {\n",
              "        // Send a message to notify the kernel that we're ready.\n",
              "        channel.send({})\n",
              "        if (message.buffers) {\n",
              "          for (const buffer of message.buffers) {\n",
              "            buffers.push(buffer);\n",
              "            downloaded += buffer.byteLength;\n",
              "            progress.value = downloaded;\n",
              "          }\n",
              "        }\n",
              "      }\n",
              "      const blob = new Blob(buffers, {type: 'application/binary'});\n",
              "      const a = document.createElement('a');\n",
              "      a.href = window.URL.createObjectURL(blob);\n",
              "      a.download = filename;\n",
              "      div.appendChild(a);\n",
              "      a.click();\n",
              "      div.remove();\n",
              "    }\n",
              "  "
            ]
          },
          "metadata": {}
        },
        {
          "output_type": "display_data",
          "data": {
            "text/plain": [
              "<IPython.core.display.Javascript object>"
            ],
            "application/javascript": [
              "download(\"download_8405ce94-e1a9-419c-a04f-e22d4d28c37d\", \"beit_model_fold_3.pth\", 343130642)"
            ]
          },
          "metadata": {}
        },
        {
          "output_type": "stream",
          "name": "stdout",
          "text": [
            "Fold 4\n",
            "Epoch 1/5, Train Loss: 0.0683, Val Loss: 0.0043, Val Accuracy: 0.9993\n",
            "Epoch 2/5, Train Loss: 0.0113, Val Loss: 0.0013, Val Accuracy: 0.9996\n",
            "Epoch 3/5, Train Loss: 0.0051, Val Loss: 0.0002, Val Accuracy: 1.0000\n",
            "Epoch 4/5, Train Loss: 0.0001, Val Loss: 0.0001, Val Accuracy: 1.0000\n",
            "Epoch 5/5, Train Loss: 0.0001, Val Loss: 0.0000, Val Accuracy: 1.0000\n",
            "Model fold 4 olarak beit_model_fold_4.pth dosyasına kaydedildi.\n"
          ]
        },
        {
          "output_type": "display_data",
          "data": {
            "text/plain": [
              "<IPython.core.display.Javascript object>"
            ],
            "application/javascript": [
              "\n",
              "    async function download(id, filename, size) {\n",
              "      if (!google.colab.kernel.accessAllowed) {\n",
              "        return;\n",
              "      }\n",
              "      const div = document.createElement('div');\n",
              "      const label = document.createElement('label');\n",
              "      label.textContent = `Downloading \"${filename}\": `;\n",
              "      div.appendChild(label);\n",
              "      const progress = document.createElement('progress');\n",
              "      progress.max = size;\n",
              "      div.appendChild(progress);\n",
              "      document.body.appendChild(div);\n",
              "\n",
              "      const buffers = [];\n",
              "      let downloaded = 0;\n",
              "\n",
              "      const channel = await google.colab.kernel.comms.open(id);\n",
              "      // Send a message to notify the kernel that we're ready.\n",
              "      channel.send({})\n",
              "\n",
              "      for await (const message of channel.messages) {\n",
              "        // Send a message to notify the kernel that we're ready.\n",
              "        channel.send({})\n",
              "        if (message.buffers) {\n",
              "          for (const buffer of message.buffers) {\n",
              "            buffers.push(buffer);\n",
              "            downloaded += buffer.byteLength;\n",
              "            progress.value = downloaded;\n",
              "          }\n",
              "        }\n",
              "      }\n",
              "      const blob = new Blob(buffers, {type: 'application/binary'});\n",
              "      const a = document.createElement('a');\n",
              "      a.href = window.URL.createObjectURL(blob);\n",
              "      a.download = filename;\n",
              "      div.appendChild(a);\n",
              "      a.click();\n",
              "      div.remove();\n",
              "    }\n",
              "  "
            ]
          },
          "metadata": {}
        },
        {
          "output_type": "display_data",
          "data": {
            "text/plain": [
              "<IPython.core.display.Javascript object>"
            ],
            "application/javascript": [
              "download(\"download_33c325d8-22bf-4ec7-8363-f47a91464f92\", \"beit_model_fold_4.pth\", 343130642)"
            ]
          },
          "metadata": {}
        },
        {
          "output_type": "stream",
          "name": "stdout",
          "text": [
            "Fold 5\n",
            "Epoch 1/5, Train Loss: 0.1156, Val Loss: 0.0518, Val Accuracy: 0.9861\n",
            "Epoch 2/5, Train Loss: 0.0105, Val Loss: 0.0022, Val Accuracy: 0.9993\n"
          ]
        }
      ],
      "source": [
        "import os\n",
        "import numpy as np\n",
        "import pandas as pd\n",
        "import matplotlib.pyplot as plt\n",
        "import seaborn as sns\n",
        "import torch\n",
        "import torchvision.transforms as transforms\n",
        "from torch.utils.data import DataLoader, Dataset, random_split\n",
        "from timm import create_model\n",
        "from sklearn.model_selection import KFold\n",
        "from sklearn.metrics import classification_report, roc_auc_score, roc_curve, confusion_matrix, accuracy_score, f1_score, precision_score, recall_score, matthews_corrcoef\n",
        "from PIL import Image\n",
        "from google.colab import files\n",
        "\n",
        "data_dir = '/content/dataset'\n",
        "categories = ['Drowsy', 'NonDrowsy']\n",
        "\n",
        "class CustomDataset(Dataset):\n",
        "    def __init__(self, filepaths, labels, transform=None):\n",
        "        self.filepaths = filepaths\n",
        "        self.labels = labels\n",
        "        self.transform = transform\n",
        "\n",
        "    def __len__(self):\n",
        "        return len(self.filepaths)\n",
        "\n",
        "    def __getitem__(self, idx):\n",
        "        img_path = self.filepaths[idx]\n",
        "        image = Image.open(img_path).convert(\"RGB\")\n",
        "        label = self.labels[idx]\n",
        "\n",
        "        if self.transform:\n",
        "            image = self.transform(image)\n",
        "\n",
        "        return image, label\n",
        "\n",
        "transform = transforms.Compose([\n",
        "    transforms.Resize((224, 224)),\n",
        "    transforms.RandomHorizontalFlip(),\n",
        "    transforms.RandomRotation(30),\n",
        "    transforms.ToTensor(),\n",
        "    transforms.Normalize([0.485, 0.456, 0.406], [0.229, 0.224, 0.225])\n",
        "])\n",
        "\n",
        "all_filepaths = []\n",
        "all_labels = []\n",
        "for i, category in enumerate(categories):\n",
        "    category_dir = os.path.join(data_dir, category)\n",
        "    for filename in os.listdir(category_dir):\n",
        "        filepath = os.path.join(category_dir, filename)\n",
        "        all_filepaths.append(filepath)\n",
        "        all_labels.append(i)  # Integer formatında kategoriler\n",
        "\n",
        "kf = KFold(n_splits=5, shuffle=True, random_state=42)\n",
        "all_metrics = []\n",
        "\n",
        "class BEiTModel(torch.nn.Module):\n",
        "    def __init__(self, num_classes):\n",
        "        super(BEiTModel, self).__init__()\n",
        "        self.backbone = create_model('beit_base_patch16_224', pretrained=True, num_classes=num_classes)\n",
        "\n",
        "    def forward(self, x):\n",
        "        return self.backbone(x)\n",
        "\n",
        "\n",
        "def train(model, dataloader, criterion, optimizer, device):\n",
        "    model.train()\n",
        "    running_loss = 0.0\n",
        "    for inputs, labels in dataloader:\n",
        "        inputs, labels = inputs.to(device), labels.to(device)\n",
        "        optimizer.zero_grad()\n",
        "        outputs = model(inputs)\n",
        "        loss = criterion(outputs, labels)\n",
        "        loss.backward()\n",
        "        optimizer.step()\n",
        "        running_loss += loss.item() * inputs.size(0)\n",
        "    epoch_loss = running_loss / len(dataloader.dataset)\n",
        "    return epoch_loss\n",
        "\n",
        "def validate(model, dataloader, criterion, device):\n",
        "    model.eval()\n",
        "    running_loss = 0.0\n",
        "    all_preds = []\n",
        "    all_labels = []\n",
        "    with torch.no_grad():\n",
        "        for inputs, labels in dataloader:\n",
        "            inputs, labels = inputs.to(device), labels.to(device)\n",
        "            outputs = model(inputs)\n",
        "            loss = criterion(outputs, labels)\n",
        "            running_loss += loss.item() * inputs.size(0)\n",
        "            preds = outputs.argmax(dim=1)\n",
        "            all_preds.extend(preds.cpu().numpy())\n",
        "            all_labels.extend(labels.cpu().numpy())\n",
        "    epoch_loss = running_loss / len(dataloader.dataset)\n",
        "    accuracy = accuracy_score(all_labels, all_preds)\n",
        "    return epoch_loss, accuracy, all_preds, all_labels\n",
        "\n",
        "device = torch.device(\"cuda\" if torch.cuda.is_available() else \"cpu\")\n",
        "num_classes = len(categories)\n",
        "\n",
        "for fold, (train_index, val_index) in enumerate(kf.split(all_filepaths)):\n",
        "    print(f\"Fold {fold + 1}\")\n",
        "\n",
        "    train_filepaths = np.array(all_filepaths)[train_index]\n",
        "    train_labels = np.array(all_labels)[train_index]\n",
        "    val_filepaths = np.array(all_filepaths)[val_index]\n",
        "    val_labels = np.array(all_labels)[val_index]\n",
        "\n",
        "    train_dataset = CustomDataset(train_filepaths, train_labels, transform=transform)\n",
        "    val_dataset = CustomDataset(val_filepaths, val_labels, transform=transform)\n",
        "\n",
        "    train_loader = DataLoader(train_dataset, batch_size=128, shuffle=True, num_workers=2, pin_memory=True)\n",
        "    val_loader = DataLoader(val_dataset, batch_size=128, shuffle=False, num_workers=2, pin_memory=True)\n",
        "\n",
        "    model = BEiTModel(num_classes=num_classes).to(device)\n",
        "    criterion = torch.nn.CrossEntropyLoss()\n",
        "    optimizer = torch.optim.Adam(model.parameters(), lr=0.0001)\n",
        "\n",
        "    num_epochs = 5\n",
        "    train_losses = []\n",
        "    val_losses = []\n",
        "\n",
        "    for epoch in range(num_epochs):\n",
        "        train_loss = train(model, train_loader, criterion, optimizer, device)\n",
        "        val_loss, val_accuracy, val_preds, val_labels = validate(model, val_loader, criterion, device)\n",
        "        train_losses.append(train_loss)\n",
        "        val_losses.append(val_loss)\n",
        "        print(f\"Epoch {epoch + 1}/{num_epochs}, Train Loss: {train_loss:.4f}, Val Loss: {val_loss:.4f}, Val Accuracy: {val_accuracy:.4f}\")\n",
        "\n",
        "    save_path = f'beit_model_fold_{fold + 1}.pth'\n",
        "    torch.save(model.state_dict(), save_path)\n",
        "    print(f\"Model fold {fold + 1} olarak {save_path} dosyasına kaydedildi.\")\n",
        "    files.download(save_path)\n",
        "\n"
      ]
    },
    {
      "cell_type": "code",
      "source": [
        "!pip install torch-xla==2.5"
      ],
      "metadata": {
        "colab": {
          "base_uri": "https://localhost:8080/"
        },
        "id": "DhHBGvT6uVr5",
        "outputId": "f7aad89e-a85e-473b-802a-b20bba70d972"
      },
      "execution_count": 2,
      "outputs": [
        {
          "output_type": "stream",
          "name": "stdout",
          "text": [
            "Collecting torch-xla==2.5\n",
            "  Downloading torch_xla-2.5.0-cp310-cp310-manylinux_2_28_x86_64.whl.metadata (14 kB)\n",
            "Requirement already satisfied: absl-py>=1.0.0 in /usr/local/lib/python3.10/dist-packages (from torch-xla==2.5) (1.4.0)\n",
            "Requirement already satisfied: numpy in /usr/local/lib/python3.10/dist-packages (from torch-xla==2.5) (1.26.4)\n",
            "Requirement already satisfied: pyyaml in /usr/local/lib/python3.10/dist-packages (from torch-xla==2.5) (6.0.2)\n",
            "Requirement already satisfied: requests in /usr/local/lib/python3.10/dist-packages (from torch-xla==2.5) (2.32.3)\n",
            "Requirement already satisfied: charset-normalizer<4,>=2 in /usr/local/lib/python3.10/dist-packages (from requests->torch-xla==2.5) (3.4.0)\n",
            "Requirement already satisfied: idna<4,>=2.5 in /usr/local/lib/python3.10/dist-packages (from requests->torch-xla==2.5) (3.10)\n",
            "Requirement already satisfied: urllib3<3,>=1.21.1 in /usr/local/lib/python3.10/dist-packages (from requests->torch-xla==2.5) (2.2.3)\n",
            "Requirement already satisfied: certifi>=2017.4.17 in /usr/local/lib/python3.10/dist-packages (from requests->torch-xla==2.5) (2024.12.14)\n",
            "Downloading torch_xla-2.5.0-cp310-cp310-manylinux_2_28_x86_64.whl (90.6 MB)\n",
            "\u001b[2K   \u001b[90m━━━━━━━━━━━━━━━━━━━━━━━━━━━━━━━━━━━━━━━━\u001b[0m \u001b[32m90.6/90.6 MB\u001b[0m \u001b[31m8.2 MB/s\u001b[0m eta \u001b[36m0:00:00\u001b[0m\n",
            "\u001b[?25hInstalling collected packages: torch-xla\n",
            "Successfully installed torch-xla-2.5.0\n"
          ]
        }
      ]
    },
    {
      "cell_type": "code",
      "source": [
        "!pip install playsound"
      ],
      "metadata": {
        "colab": {
          "base_uri": "https://localhost:8080/"
        },
        "id": "jclrleJIuouD",
        "outputId": "783c3380-dd54-4851-cce6-aa5f77a4b5f2"
      },
      "execution_count": 3,
      "outputs": [
        {
          "output_type": "stream",
          "name": "stdout",
          "text": [
            "Collecting playsound\n",
            "  Downloading playsound-1.3.0.tar.gz (7.7 kB)\n",
            "  Preparing metadata (setup.py) ... \u001b[?25l\u001b[?25hdone\n",
            "Building wheels for collected packages: playsound\n",
            "  Building wheel for playsound (setup.py) ... \u001b[?25l\u001b[?25hdone\n",
            "  Created wheel for playsound: filename=playsound-1.3.0-py3-none-any.whl size=7020 sha256=b3a28a4608e6f795966a06e30773d61c7cb81c27056ddcc14acfa2cc04775ad0\n",
            "  Stored in directory: /root/.cache/pip/wheels/90/89/ed/2d643f4226fc8c7c9156fc28abd8051e2d2c0de37ae51ac45c\n",
            "Successfully built playsound\n",
            "Installing collected packages: playsound\n",
            "Successfully installed playsound-1.3.0\n"
          ]
        }
      ]
    },
    {
      "cell_type": "code",
      "source": [
        "import pandas as pd\n",
        "\n",
        "data = {\n",
        "    'Fold': [1, 1, 1, 1, 1, 2, 2, 2, 2, 2, 3, 3, 3, 3, 3, 4, 4, 4, 4, 4],\n",
        "    'Epoch': [1, 2, 3, 4, 5, 1, 2, 3, 4, 5, 1, 2, 3, 4, 5, 1, 2, 3, 4, 5],\n",
        "    'Train Loss': [\n",
        "        0.0674, 0.0059, 0.0159, 0.0045, 0.0029,\n",
        "        0.0868, 0.0078, 0.0043, 0.0077, 0.0062,\n",
        "        0.0630, 0.0030, 0.0059, 0.0015, 0.0028,\n",
        "        0.0683, 0.0113, 0.0051, 0.0001, 0.0001\n",
        "    ],\n",
        "    'Val Loss': [\n",
        "        0.0016, 0.0009, 0.0025, 0.0026, 0.0002,\n",
        "        0.0041, 0.0026, 0.0023, 0.0028, 0.0019,\n",
        "        0.0026, 0.0005, 0.0012, 0.0002, 0.0001,\n",
        "        0.0043, 0.0013, 0.0002, 0.0001, 0.0000\n",
        "    ],\n",
        "    'Val Accuracy': [\n",
        "        0.9995, 0.9998, 0.9993, 0.9993, 1.0000,\n",
        "        0.9990, 0.9995, 0.9994, 0.9992, 0.9995,\n",
        "        0.9993, 0.9999, 0.9996, 0.9999, 1.0000,\n",
        "        0.9993, 0.9996, 1.0000, 1.0000, 1.0000\n",
        "    ]\n",
        "}\n",
        "\n",
        "df = pd.DataFrame(data)\n",
        "df.to_csv('/content/makine/dataframe_updated.csv', index=False)\n",
        "\n",
        "print(\"CSV dosyası başarıyla kaydedildi!\")\n"
      ],
      "metadata": {
        "colab": {
          "base_uri": "https://localhost:8080/"
        },
        "id": "ONajTpfSuvzz",
        "outputId": "13a9ce37-9146-4a66-90c1-582bdb062122"
      },
      "execution_count": 4,
      "outputs": [
        {
          "output_type": "stream",
          "name": "stdout",
          "text": [
            "CSV dosyası başarıyla kaydedildi!\n"
          ]
        }
      ]
    },
    {
      "cell_type": "code",
      "source": [
        "import matplotlib.pyplot as plt\n",
        "\n",
        "data = {\n",
        "    'Fold': [1, 1, 1, 1, 1, 2, 2, 2, 2, 2, 3, 3, 3, 3, 3, 4, 4, 4, 4, 4, 5, 5, 5, 5, 5],\n",
        "    'Epoch': [1, 2, 3, 4, 5, 1, 2, 3, 4, 5, 1, 2, 3, 4, 5, 1, 2, 3, 4, 5, 1, 2, 3, 4, 5],\n",
        "    'Train Loss': [0.0298, 0.0044, 0.0013, 0.0019, 0.0001,\n",
        "                   0.0431, 0.0064, 0.0015, 0.0029, 0.0002,\n",
        "                   0.0274, 0.0002, 0.0075, 0.0018, 0.0006,\n",
        "                   0.0295, 0.0026, 0.0036, 0.0014, 0.0021,\n",
        "                   0.0424, 0.0033, 0.0002, 0.0018, 0.0047],\n",
        "    'Val Loss': [0.0007, 0.0008, 0.0041, 0.0000, 0.0008,\n",
        "                 0.0013, 0.0004, 0.0003, 0.0002, 0.0031,\n",
        "                 0.0001, 0.0020, 0.0001, 0.0000, 0.0001,\n",
        "                 0.0012, 0.0003, 0.0002, 0.0006, 0.0001,\n",
        "                 0.0002, 0.0014, 0.0000, 0.0003, 0.0004],\n",
        "    'Val Accuracy': [0.9999, 0.9998, 0.9990, 1.0000, 0.9998,\n",
        "                     0.9996, 1.0000, 0.9999, 0.9999, 0.9994,\n",
        "                     1.0000, 0.9994, 1.0000, 1.0000, 1.0000,\n",
        "                     0.9998, 0.9999, 0.9999, 0.9999, 1.0000,\n",
        "                     0.9999, 0.9998, 1.0000, 1.0000, 0.9999]\n",
        "}\n",
        "folds = sorted(set(data['Fold']))\n",
        "for fold in folds:\n",
        "    fold_data = {k: [v for i, v in enumerate(data[k]) if data['Fold'][i] == fold] for k in data}\n",
        "    epochs = fold_data['Epoch']\n",
        "    train_losses = fold_data['Train Loss']\n",
        "    val_losses = fold_data['Val Loss']\n",
        "\n",
        "    plt.figure(figsize=(10, 5))\n",
        "    plt.plot(epochs, train_losses, label='Train Loss', marker='o')\n",
        "    plt.plot(epochs, val_losses, label='Val Loss', marker='x')\n",
        "    plt.xlabel('Epoch')\n",
        "    plt.ylabel('Loss')\n",
        "    plt.title(f'Fold {fold} - Epochs vs Loss')\n",
        "    plt.legend()\n",
        "    plt.grid(True)\n",
        "    plt.show()"
      ],
      "metadata": {
        "id": "BHpx48kXvm8D"
      },
      "execution_count": null,
      "outputs": []
    },
    {
      "cell_type": "code",
      "source": [
        "import matplotlib.pyplot as plt\n",
        "\n",
        "data = {\n",
        "    'Fold': [1, 1, 1, 1, 1, 2, 2, 2, 2, 2, 3, 3, 3, 3, 3, 4, 4, 4, 4, 4],\n",
        "    'Epoch': [1, 2, 3, 4, 5, 1, 2, 3, 4, 5, 1, 2, 3, 4, 5, 1, 2, 3, 4, 5],\n",
        "    'Train Loss': [\n",
        "        0.0674, 0.0059, 0.0159, 0.0045, 0.0029,\n",
        "        0.0868, 0.0078, 0.0043, 0.0077, 0.0062,\n",
        "        0.0630, 0.0030, 0.0059, 0.0015, 0.0028,\n",
        "        0.0683, 0.0113, 0.0051, 0.0001, 0.0001\n",
        "    ],\n",
        "    'Val Loss': [\n",
        "        0.0016, 0.0009, 0.0025, 0.0026, 0.0002,\n",
        "        0.0041, 0.0026, 0.0023, 0.0028, 0.0019,\n",
        "        0.0026, 0.0005, 0.0012, 0.0002, 0.0001,\n",
        "        0.0043, 0.0013, 0.0002, 0.0001, 0.0000\n",
        "    ],\n",
        "    'Val Accuracy': [\n",
        "        0.9995, 0.9998, 0.9993, 0.9993, 1.0000,\n",
        "        0.9990, 0.9995, 0.9994, 0.9992, 0.9995,\n",
        "        0.9993, 0.9999, 0.9996, 0.9999, 1.0000,\n",
        "        0.9993, 0.9996, 1.0000, 1.0000, 1.0000\n",
        "    ]\n",
        "}\n",
        "\n",
        "folds = sorted(set(data['Fold']))\n",
        "for fold in folds:\n",
        "    fold_data = {k: [v for i, v in enumerate(data[k]) if data['Fold'][i] == fold] for k in data}\n",
        "    epochs = fold_data['Epoch']\n",
        "    train_losses = fold_data['Train Loss']\n",
        "    val_losses = fold_data['Val Loss']\n",
        "\n",
        "    plt.figure(figsize=(10, 5))\n",
        "    plt.plot(epochs, train_losses, label='Train Loss', marker='o', linestyle='-')\n",
        "    plt.plot(epochs, val_losses, label='Val Loss', marker='x', linestyle='--')\n",
        "    plt.xlabel('Epoch')\n",
        "    plt.ylabel('Loss')\n",
        "    plt.title(f'Fold {fold} - Epochs vs Loss')\n",
        "    plt.legend()\n",
        "    plt.grid(True)\n",
        "    plt.show()\n"
      ],
      "metadata": {
        "colab": {
          "base_uri": "https://localhost:8080/",
          "height": 1000
        },
        "id": "5sEESTnIv_zv",
        "outputId": "0cec966c-d2bc-4f2f-b7c6-98258531c22b"
      },
      "execution_count": 5,
      "outputs": [
        {
          "output_type": "display_data",
          "data": {
            "text/plain": [
              "<Figure size 1000x500 with 1 Axes>"
            ],
            "image/png": "[encoded data removed]"
          },
          "metadata": {}
        },
        {
          "output_type": "display_data",
          "data": {
            "text/plain": [
              "<Figure size 1000x500 with 1 Axes>"
            ],
            "image/png": "[encoded data removed]"
          },
          "metadata": {}
        },
        {
          "output_type": "display_data",
          "data": {
            "text/plain": [
              "<Figure size 1000x500 with 1 Axes>"
            ],
            "image/png": "[encoded data removed]"
          },
          "metadata": {}
        },
        {
          "output_type": "display_data",
          "data": {
            "text/plain": [
              "<Figure size 1000x500 with 1 Axes>"
            ],
            "image/png": "[encoded data removed]"
          },
          "metadata": {}
        }
      ]
    },
    {
      "cell_type": "code",
      "source": [],
      "metadata": {
        "id": "f9pcl3uI1IUw"
      },
      "execution_count": null,
      "outputs": []
    },
    {
      "cell_type": "code",
      "source": [
        "import os\n",
        "import torch\n",
        "import numpy as np\n",
        "from sklearn.metrics import classification_report, confusion_matrix, roc_auc_score, accuracy_score, precision_score, recall_score, f1_score\n",
        "from torch.utils.data import DataLoader, Dataset\n",
        "from timm import create_model\n",
        "from PIL import Image\n",
        "import torchvision.transforms as transforms\n",
        "\n",
        "data_dir = '/content/dataset'\n",
        "categories = ['Drowsy', 'NonDrowsy']\n",
        "\n",
        "model_paths = ['beit_model_fold_1.pth', 'beit_model_fold_2.pth', 'beit_model_fold_3.pth', 'beit_model_fold_4.pth']\n",
        "\n",
        "transform = transforms.Compose([\n",
        "    transforms.Resize((224, 224)),\n",
        "    transforms.ToTensor(),\n",
        "    transforms.Normalize([0.485, 0.456, 0.406], [0.229, 0.224, 0.225])\n",
        "])\n",
        "\n",
        "class CustomDataset(Dataset):\n",
        "    def __init__(self, filepaths, labels, transform=None):\n",
        "        self.filepaths = filepaths\n",
        "        self.labels = labels\n",
        "        self.transform = transform\n",
        "\n",
        "    def __len__(self):\n",
        "        return len(self.filepaths)\n",
        "\n",
        "    def __getitem__(self, idx):\n",
        "        img_path = self.filepaths[idx]\n",
        "        image = Image.open(img_path).convert(\"RGB\")\n",
        "        label = self.labels[idx]\n",
        "\n",
        "        if self.transform:\n",
        "            image = self.transform(image)\n",
        "\n",
        "        return image, label\n",
        "\n",
        "all_filepaths = []\n",
        "all_labels = []\n",
        "for i, category in enumerate(categories):\n",
        "    category_dir = os.path.join(data_dir, category)\n",
        "    for filename in os.listdir(category_dir):\n",
        "        filepath = os.path.join(category_dir, filename)\n",
        "        all_filepaths.append(filepath)\n",
        "        all_labels.append(i)\n",
        "\n",
        "val_dataset = CustomDataset(all_filepaths, all_labels, transform=transform)\n",
        "val_loader = DataLoader(val_dataset, batch_size=128, shuffle=False, num_workers=2, pin_memory=True)\n",
        "\n",
        "class BEiTModel(torch.nn.Module):\n",
        "    def __init__(self, num_classes):\n",
        "        super(BEiTModel, self).__init__()\n",
        "        self.backbone = create_model('beit_base_patch16_224', pretrained=False, num_classes=num_classes)\n",
        "\n",
        "    def forward(self, x):\n",
        "        return self.backbone(x)\n",
        "\n",
        "device = torch.device(\"cuda\" if torch.cuda.is_available() else \"cpu\")\n",
        "num_classes = len(categories)\n",
        "\n",
        "all_metrics = []\n",
        "\n",
        "for model_path in model_paths:\n",
        "    print(f\"Model yükleniyor: {model_path}\")\n",
        "    model = BEiTModel(num_classes=num_classes).to(device)\n",
        "\n",
        "    model.load_state_dict(torch.load(model_path, map_location=torch.device('cpu')))\n",
        "    model.eval()\n",
        "\n",
        "    all_preds = []\n",
        "    all_labels = []\n",
        "\n",
        "    with torch.no_grad():\n",
        "        for inputs, labels in val_loader:\n",
        "            inputs, labels = inputs.to(device), labels.to(device)\n",
        "            outputs = model(inputs)\n",
        "            preds = outputs.argmax(dim=1)\n",
        "            all_preds.extend(preds.cpu().numpy())\n",
        "            all_labels.extend(labels.cpu().numpy())\n",
        "\n",
        "    accuracy = accuracy_score(all_labels, all_preds)\n",
        "    precision = precision_score(all_labels, all_preds, average='weighted')\n",
        "    recall = recall_score(all_labels, all_preds, average='weighted')\n",
        "    f1 = f1_score(all_labels, all_preds, average='weighted')\n",
        "    cm = confusion_matrix(all_labels, all_preds)\n",
        "\n",
        "\n",
        "    tn, fp, fn, tp = cm.ravel()\n",
        "    sensitivity = recall\n",
        "    specificity = tn / (tn + fp)\n",
        "\n",
        "    auc = roc_auc_score(all_labels, all_preds)\n",
        "\n",
        "    all_metrics.append({\n",
        "        'Model': model_path,\n",
        "        'Accuracy': accuracy,\n",
        "        'Precision': precision,\n",
        "        'Recall': recall,\n",
        "        'F1-Score': f1,\n",
        "        'Sensitivity': sensitivity,\n",
        "        'Specificity': specificity,\n",
        "        'AUC': auc\n",
        "    })\n",
        "\n",
        "for metric in all_metrics:\n",
        "    print(f\"Model: {metric['Model']}\")\n",
        "    print(f\"Accuracy: {metric['Accuracy']:.4f}\")\n",
        "    print(f\"Precision: {metric['Precision']:.4f}\")\n",
        "    print(f\"Recall: {metric['Recall']:.4f}\")\n",
        "    print(f\"F1-Score: {metric['F1-Score']:.4f}\")\n",
        "    print(f\"Sensitivity: {metric['Sensitivity']:.4f}\")\n",
        "    print(f\"Specificity: {metric['Specificity']:.4f}\")\n",
        "    print(f\"AUC: {metric['AUC']:.4f}\")\n",
        "    print(\"-\" * 50)\n"
      ],
      "metadata": {
        "colab": {
          "base_uri": "https://localhost:8080/"
        },
        "id": "uI-AV_ZMaon0",
        "outputId": "961dcb17-8d03-4513-9463-8e4c0c98abd5"
      },
      "execution_count": null,
      "outputs": [
        {
          "output_type": "stream",
          "name": "stdout",
          "text": [
            "Model yükleniyor: beit_model_fold_1.pth\n"
          ]
        },
        {
          "output_type": "stream",
          "name": "stderr",
          "text": [
            "<ipython-input-10-85ad2f8e01e8>:78: FutureWarning: You are using `torch.load` with `weights_only=False` (the current default value), which uses the default pickle module implicitly. It is possible to construct malicious pickle data which will execute arbitrary code during unpickling (See https://github.com/pytorch/pytorch/blob/main/SECURITY.md#untrusted-models for more details). In a future release, the default value for `weights_only` will be flipped to `True`. This limits the functions that could be executed during unpickling. Arbitrary objects will no longer be allowed to be loaded via this mode unless they are explicitly allowlisted by the user via `torch.serialization.add_safe_globals`. We recommend you start setting `weights_only=True` for any use case where you don't have full control of the loaded file. Please open an issue on GitHub for any issues related to this experimental feature.\n",
            "  model.load_state_dict(torch.load(model_path, map_location=torch.device('cpu')))\n"
          ]
        }
      ]
    }
  ]
}